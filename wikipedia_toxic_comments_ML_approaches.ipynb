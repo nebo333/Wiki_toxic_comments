{
 "cells": [
  {
   "cell_type": "code",
   "execution_count": 18,
   "metadata": {},
   "outputs": [],
   "source": [
    "import pandas as pd\n",
    "\n",
    "import numpy as np\n",
    "from numpy import mean\n",
    "from numpy import std\n",
    "\n",
    "import re\n",
    "\n",
    "import pickle\n",
    "\n",
    "from nltk.corpus import stopwords\n",
    "from nltk import word_tokenize\n",
    "from nltk.tokenize import sent_tokenize\n",
    "from nltk.stem.porter import PorterStemmer\n",
    "from nltk.stem.wordnet import WordNetLemmatizer\n",
    "\n",
    "#from gensim.models import Word2Vec\n",
    "\n",
    "from sklearn.feature_extraction.text import CountVectorizer\n",
    "from sklearn.preprocessing import OneHotEncoder, LabelEncoder\n",
    "from sklearn.feature_extraction.text import TfidfVectorizer\n",
    "from sklearn.model_selection import train_test_split\n",
    "from sklearn.feature_extraction.text import TfidfTransformer\n",
    "#import utils\n",
    "\n",
    "from sklearn.naive_bayes import MultinomialNB\n",
    "from sklearn.tree import DecisionTreeClassifier\n",
    "from sklearn.ensemble import AdaBoostClassifier\n",
    "\n",
    "from sklearn.metrics import classification_report\n",
    "from sklearn.metrics import confusion_matrix\n",
    "from sklearn.metrics import accuracy_score\n",
    "\n",
    "\n",
    "from sklearn.pipeline import Pipeline\n",
    "\n",
    "from scipy.special import softmax\n",
    "\n",
    "import pylab as pl\n",
    "\n",
    "#import tensorflow as tf\n",
    "\n",
    "from collections import Counter\n",
    "\n",
    "import time\n",
    "\n",
    "import random"
   ]
  },
  {
   "cell_type": "markdown",
   "metadata": {},
   "source": [
    "## Text importing & cleaning function"
   ]
  },
  {
   "cell_type": "code",
   "execution_count": 2,
   "metadata": {},
   "outputs": [
    {
     "name": "stdout",
     "output_type": "stream",
     "text": [
      "/home/ubuntu/Wiki_comment_comp\n"
     ]
    }
   ],
   "source": [
    "cd Wiki_comment_comp/"
   ]
  },
  {
   "cell_type": "code",
   "execution_count": 3,
   "metadata": {},
   "outputs": [],
   "source": [
    "jigsaw_train_data = pd.read_csv('train.csv.zip')\n",
    "jigsaw_test_data = pd.read_csv('test.csv.zip')\n",
    "jigsaw_test_label_data = pd.read_csv('test_labels.csv.zip')\n",
    "\n",
    "binary_df = jigsaw_train_data[['comment_text','toxic']]\n",
    "\n",
    "def cleanText(samples):\n",
    "    text = re.sub(r\"\\n\", \" \", samples)\n",
    "    text = re.sub(r\"'\", \"\", text)\n",
    "    text = re.sub(r\"[^a-zA-Z]\", \" \", text.lower())\n",
    "    words = word_tokenize(text)\n",
    "    words_ls = []\n",
    "    for word in words:\n",
    "        word = re.sub(r'([a-z])\\1+', '',word)\n",
    "        words_ls.append(word)\n",
    "    words = [w for w in words_ls if w not in stopwords.words(\"english\")]\n",
    "    words = [PorterStemmer().stem(w) for w in words]\n",
    "    words = [WordNetLemmatizer().lemmatize(w) for w in words]\n",
    "    \n",
    "    return words"
   ]
  },
  {
   "cell_type": "code",
   "execution_count": 4,
   "metadata": {},
   "outputs": [],
   "source": [
    "## Merge the test content and labels\n",
    "jigsaw_test_consol_data = pd.merge(jigsaw_test_data, jigsaw_test_label_data,\n",
    "                           left_on = 'id',\n",
    "                           right_on = 'id')\n",
    "\n",
    "## take out the unlabelled data\n",
    "jigsaw_test_consol_data = jigsaw_test_consol_data[jigsaw_test_consol_data.toxic != -1]"
   ]
  },
  {
   "cell_type": "markdown",
   "metadata": {},
   "source": [
    "## BoW approach"
   ]
  },
  {
   "cell_type": "markdown",
   "metadata": {},
   "source": [
    "good bow ref - https://scikit-learn.org/stable/tutorial/text_analytics/working_with_text_data.html"
   ]
  },
  {
   "cell_type": "code",
   "execution_count": 12,
   "metadata": {
    "collapsed": true
   },
   "outputs": [
    {
     "name": "stderr",
     "output_type": "stream",
     "text": [
      "[nltk_data] Downloading package punkt to /home/ubuntu/nltk_data...\n",
      "[nltk_data]   Package punkt is already up-to-date!\n",
      "[nltk_data] Downloading package stopwords to /home/ubuntu/nltk_data...\n",
      "[nltk_data]   Package stopwords is already up-to-date!\n",
      "[nltk_data] Downloading package wordnet to /home/ubuntu/nltk_data...\n",
      "[nltk_data]   Unzipping corpora/wordnet.zip.\n"
     ]
    },
    {
     "data": {
      "text/plain": [
       "True"
      ]
     },
     "execution_count": 12,
     "metadata": {},
     "output_type": "execute_result"
    }
   ],
   "source": [
    "import nltk\n",
    "nltk.download('punkt')\n",
    "nltk.download('stopwords')\n",
    "nltk.download('wordnet')"
   ]
  },
  {
   "cell_type": "code",
   "execution_count": 6,
   "metadata": {},
   "outputs": [],
   "source": [
    "## Vectorize as Bow using processed text\n",
    "\n",
    "## CountVectorizer converts a collection of text documents to a matrix of token counts\n",
    "## If you do not provide an a-priori dictionary and you do not use an analyzer that does \n",
    "## some kind of feature selection then the number of features will be equal to the vocabulary \n",
    "## size found by analyzing the data.\n",
    "\n",
    "## fit_transform learns the vocabulary dictionary and returns a document-term matrix.\n",
    "\n",
    "def dummy(doc):\n",
    "    return doc\n",
    "\n",
    "cv = CountVectorizer(preprocessor=dummy,\n",
    "                    analyzer=cleanText,\n",
    "                    max_features=10000)\n",
    "\n",
    "\n",
    "X_bow = cv.fit_transform(binary_df['comment_text'])\n",
    "X_bow_array = X_bow.toarray()"
   ]
  },
  {
   "cell_type": "code",
   "execution_count": 81,
   "metadata": {},
   "outputs": [],
   "source": [
    "indices = np.arange(X_bow_array.shape[0])\n",
    "np.random.shuffle(indices)\n",
    "X_bow_data = X_bow_array[indices]\n",
    "Y_bow = binary_df['toxic'][indices]"
   ]
  },
  {
   "cell_type": "code",
   "execution_count": 25,
   "metadata": {
    "collapsed": true
   },
   "outputs": [
    {
     "ename": "NameError",
     "evalue": "name 'X_bow_data' is not defined",
     "output_type": "error",
     "traceback": [
      "\u001b[0;31m---------------------------------------------------------------------------\u001b[0m",
      "\u001b[0;31mNameError\u001b[0m                                 Traceback (most recent call last)",
      "\u001b[0;32m<ipython-input-25-9881870937e8>\u001b[0m in \u001b[0;36m<module>\u001b[0;34m\u001b[0m\n\u001b[1;32m      1\u001b[0m \u001b[0mtraining_samples\u001b[0m \u001b[0;34m=\u001b[0m \u001b[0;36m125000\u001b[0m\u001b[0;34m\u001b[0m\u001b[0;34m\u001b[0m\u001b[0m\n\u001b[1;32m      2\u001b[0m \u001b[0;34m\u001b[0m\u001b[0m\n\u001b[0;32m----> 3\u001b[0;31m \u001b[0mx_train\u001b[0m \u001b[0;34m=\u001b[0m \u001b[0mX_bow_data\u001b[0m\u001b[0;34m[\u001b[0m\u001b[0;34m:\u001b[0m\u001b[0mtraining_samples\u001b[0m\u001b[0;34m]\u001b[0m\u001b[0;34m\u001b[0m\u001b[0;34m\u001b[0m\u001b[0m\n\u001b[0m\u001b[1;32m      4\u001b[0m \u001b[0my_train\u001b[0m \u001b[0;34m=\u001b[0m \u001b[0mY_bow\u001b[0m\u001b[0;34m[\u001b[0m\u001b[0;34m:\u001b[0m\u001b[0mtraining_samples\u001b[0m\u001b[0;34m]\u001b[0m\u001b[0;34m\u001b[0m\u001b[0;34m\u001b[0m\u001b[0m\n\u001b[1;32m      5\u001b[0m \u001b[0mx_val\u001b[0m \u001b[0;34m=\u001b[0m \u001b[0mX_bow_data\u001b[0m\u001b[0;34m[\u001b[0m\u001b[0mtraining_samples\u001b[0m\u001b[0;34m:\u001b[0m \u001b[0mX_bow_array\u001b[0m\u001b[0;34m.\u001b[0m\u001b[0mshape\u001b[0m\u001b[0;34m[\u001b[0m\u001b[0;36m0\u001b[0m\u001b[0;34m]\u001b[0m\u001b[0;34m]\u001b[0m\u001b[0;34m\u001b[0m\u001b[0;34m\u001b[0m\u001b[0m\n",
      "\u001b[0;31mNameError\u001b[0m: name 'X_bow_data' is not defined"
     ]
    }
   ],
   "source": [
    "training_samples = 125000\n",
    "\n",
    "x_train = X_bow_data[:training_samples]\n",
    "y_train = Y_bow[:training_samples]\n",
    "x_val = X_bow_data[training_samples: X_bow_array.shape[0]]\n",
    "y_val = Y_bow[training_samples: X_bow_array.shape[0]]\n",
    "\n",
    "print('You have % training samples', training_samples)\n",
    "print('You have & validation samples', X_bow_array.shape[0] - training_samples)"
   ]
  },
  {
   "cell_type": "markdown",
   "metadata": {},
   "source": [
    "Fit and assess model"
   ]
  },
  {
   "cell_type": "code",
   "execution_count": 83,
   "metadata": {},
   "outputs": [
    {
     "name": "stdout",
     "output_type": "stream",
     "text": [
      "              precision    recall  f1-score   support\n",
      "\n",
      "           0       0.97      0.97      0.97     31254\n",
      "           1       0.73      0.71      0.72      3317\n",
      "\n",
      "    accuracy                           0.95     34571\n",
      "   macro avg       0.85      0.84      0.85     34571\n",
      "weighted avg       0.95      0.95      0.95     34571\n",
      "\n",
      "[[30389   865]\n",
      " [  967  2350]]\n"
     ]
    },
    {
     "name": "stderr",
     "output_type": "stream",
     "text": [
      "/home/ubuntu/anaconda3/envs/aws_neuron_mxnet_p36/lib/python3.6/site-packages/sklearn/utils/validation.py:70: FutureWarning: Pass labels=[0, 1] as keyword args. From version 0.25 passing these as positional arguments will result in an error\n",
      "  FutureWarning)\n"
     ]
    }
   ],
   "source": [
    "toxic_detect_model = MultinomialNB().fit(x_train, y_train)\n",
    "train_preds = toxic_detect_model.predict(x_train)\n",
    "val_preds = toxic_detect_model.predict(x_val)\n",
    "\n",
    "## Assess validation data set results\n",
    "labels = [0,1]\n",
    "print (classification_report(y_val, val_preds))\n",
    "print(confusion_matrix(y_val, val_preds, labels))"
   ]
  },
  {
   "cell_type": "code",
   "execution_count": 84,
   "metadata": {},
   "outputs": [],
   "source": [
    "pos_array = np.empty([0, 2], dtype=int)\n",
    "neg_array = np.empty([0, 2], dtype=int)\n",
    "\n",
    "for i, label in binary_df['toxic'].iteritems():\n",
    "    entry = []\n",
    "    entry.append(i)\n",
    "    entry.append(label)\n",
    "    if label == 0:\n",
    "        pos_array = np.append(pos_array, [entry], axis=0)\n",
    "    else:\n",
    "        neg_array = np.append(neg_array, [entry], axis=0)\n",
    "        \n",
    "number_of_rows = pos_array.shape[0]\n",
    "random_indices = np.random.choice(number_of_rows, size=60000, replace=False)\n",
    "random_rows = pos_array[random_indices, :]\n",
    "\n",
    "y_bow_adj = np.concatenate((neg_array, random_rows), axis=0)"
   ]
  },
  {
   "cell_type": "code",
   "execution_count": 85,
   "metadata": {},
   "outputs": [],
   "source": [
    "indices = y_bow_adj[:,0]\n",
    "np.random.shuffle(indices)\n",
    "X_bow_data = X_bow_array[indices]\n",
    "Y_bow = binary_df['toxic'][indices]"
   ]
  },
  {
   "cell_type": "code",
   "execution_count": 92,
   "metadata": {},
   "outputs": [
    {
     "name": "stdout",
     "output_type": "stream",
     "text": [
      "You have % training samples 60000\n",
      "You have & validation samples 15294\n"
     ]
    }
   ],
   "source": [
    "training_samples = 60000\n",
    "\n",
    "x_train = X_bow_data[:training_samples]\n",
    "y_train = Y_bow[:training_samples]\n",
    "x_val = X_bow_data[training_samples: indices.shape[0]]\n",
    "y_val = Y_bow[training_samples: indices.shape[0]]\n",
    "\n",
    "print('You have % training samples', training_samples)\n",
    "print('You have & validation samples', indices.shape[0] - training_samples)"
   ]
  },
  {
   "cell_type": "code",
   "execution_count": 89,
   "metadata": {
    "scrolled": true
   },
   "outputs": [
    {
     "name": "stdout",
     "output_type": "stream",
     "text": [
      "              precision    recall  f1-score   support\n",
      "\n",
      "           0       0.94      0.96      0.95     12158\n",
      "           1       0.82      0.76      0.79      3136\n",
      "\n",
      "    accuracy                           0.92     15294\n",
      "   macro avg       0.88      0.86      0.87     15294\n",
      "weighted avg       0.92      0.92      0.92     15294\n",
      "\n",
      "[[11632   526]\n",
      " [  740  2396]]\n"
     ]
    },
    {
     "name": "stderr",
     "output_type": "stream",
     "text": [
      "/home/ubuntu/anaconda3/envs/aws_neuron_mxnet_p36/lib/python3.6/site-packages/sklearn/utils/validation.py:70: FutureWarning: Pass labels=[0, 1] as keyword args. From version 0.25 passing these as positional arguments will result in an error\n",
      "  FutureWarning)\n"
     ]
    }
   ],
   "source": [
    "toxic_detect_model = MultinomialNB().fit(x_train, y_train)\n",
    "train_preds = toxic_detect_model.predict(x_train)\n",
    "val_preds = toxic_detect_model.predict(x_val)\n",
    "\n",
    "## Assess validation data set results\n",
    "labels = [0,1]\n",
    "print (classification_report(y_val, val_preds))\n",
    "print(confusion_matrix(y_val, val_preds, labels))"
   ]
  },
  {
   "cell_type": "code",
   "execution_count": 91,
   "metadata": {},
   "outputs": [],
   "source": [
    "from sklearn.metrics import plot_roc_curve"
   ]
  },
  {
   "cell_type": "code",
   "execution_count": 94,
   "metadata": {},
   "outputs": [
    {
     "data": {
      "image/png": "[encoded data removed]",
      "text/plain": [
       "<Figure size 432x288 with 1 Axes>"
      ]
     },
     "metadata": {
      "needs_background": "light"
     },
     "output_type": "display_data"
    }
   ],
   "source": [
    "svc_disp = plot_roc_curve(toxic_detect_model, x_val, y_val)"
   ]
  },
  {
   "cell_type": "markdown",
   "metadata": {},
   "source": [
    "## TF-IDF approach"
   ]
  },
  {
   "cell_type": "code",
   "execution_count": 6,
   "metadata": {},
   "outputs": [],
   "source": [
    "## Vectorize as TF-IDF using processed text\n",
    "\n",
    "def dummy(doc):\n",
    "    return doc\n",
    "\n",
    "tfidf_transformer = TfidfVectorizer(preprocessor=dummy,\n",
    "                    analyzer=cleanText)\n",
    "\n",
    "X_train_tfidf = tfidf_transformer.fit_transform(binary_df['comment_text'])"
   ]
  },
  {
   "cell_type": "code",
   "execution_count": 8,
   "metadata": {},
   "outputs": [],
   "source": [
    "pos_array = np.empty([0, 2], dtype=int)\n",
    "neg_array = np.empty([0, 2], dtype=int)\n",
    "\n",
    "for i, label in binary_df['toxic'].iteritems():\n",
    "    entry = []\n",
    "    entry.append(i)\n",
    "    entry.append(label)\n",
    "    if label == 0:\n",
    "        pos_array = np.append(pos_array, [entry], axis=0)\n",
    "    else:\n",
    "        neg_array = np.append(neg_array, [entry], axis=0)\n",
    "        \n",
    "number_of_rows = pos_array.shape[0]\n",
    "random_indices = np.random.choice(number_of_rows, size=60000, replace=False)\n",
    "random_rows = pos_array[random_indices, :]\n",
    "\n",
    "y_bow_adj = np.concatenate((neg_array, random_rows), axis=0)"
   ]
  },
  {
   "cell_type": "code",
   "execution_count": 10,
   "metadata": {},
   "outputs": [],
   "source": [
    "indices = y_bow_adj[:,0]\n",
    "np.random.shuffle(indices)\n",
    "X_train_tfidf = X_train_tfidf[indices]\n",
    "Y_bow = binary_df['toxic'][indices]"
   ]
  },
  {
   "cell_type": "code",
   "execution_count": 11,
   "metadata": {},
   "outputs": [
    {
     "name": "stdout",
     "output_type": "stream",
     "text": [
      "You have % training samples 60000\n",
      "You have & validation samples 15294\n"
     ]
    }
   ],
   "source": [
    "training_samples = 60000\n",
    "\n",
    "x_train_tfidf = X_train_tfidf[:training_samples]\n",
    "y_train_tfidf = Y_bow[:training_samples]\n",
    "x_val_tfidf = X_train_tfidf[training_samples: X_train_tfidf.shape[0]]\n",
    "y_val_tfidf = Y_bow[training_samples: X_train_tfidf.shape[0]]\n",
    "\n",
    "print('You have % training samples', training_samples)\n",
    "print('You have & validation samples', X_train_tfidf.shape[0] - training_samples)"
   ]
  },
  {
   "cell_type": "markdown",
   "metadata": {},
   "source": [
    "Fit and assess model"
   ]
  },
  {
   "cell_type": "code",
   "execution_count": 13,
   "metadata": {},
   "outputs": [
    {
     "name": "stdout",
     "output_type": "stream",
     "text": [
      "              precision    recall  f1-score   support\n",
      "\n",
      "           0       0.85      1.00      0.92     12185\n",
      "           1       0.99      0.33      0.49      3109\n",
      "\n",
      "    accuracy                           0.86     15294\n",
      "   macro avg       0.92      0.66      0.71     15294\n",
      "weighted avg       0.88      0.86      0.83     15294\n",
      "\n",
      "[[12170    15]\n",
      " [ 2084  1025]]\n"
     ]
    },
    {
     "name": "stderr",
     "output_type": "stream",
     "text": [
      "/home/ubuntu/anaconda3/envs/aws_neuron_mxnet_p36/lib/python3.6/site-packages/sklearn/utils/validation.py:70: FutureWarning: Pass labels=[0, 1] as keyword args. From version 0.25 passing these as positional arguments will result in an error\n",
      "  FutureWarning)\n"
     ]
    }
   ],
   "source": [
    "toxic_detect_tfidf_model = MultinomialNB().fit(x_train_tfidf, y_train_tfidf)\n",
    "train_tfidf_preds = toxic_detect_tfidf_model.predict(x_train_tfidf)\n",
    "val_tfidf_preds = toxic_detect_tfidf_model.predict(x_val_tfidf)\n",
    "\n",
    "labels = [0,1]\n",
    "print (classification_report(y_val_tfidf, val_tfidf_preds))\n",
    "print(confusion_matrix(y_val_tfidf, val_tfidf_preds, labels))"
   ]
  },
  {
   "cell_type": "code",
   "execution_count": 17,
   "metadata": {},
   "outputs": [
    {
     "name": "stdout",
     "output_type": "stream",
     "text": [
      "              precision    recall  f1-score   support\n",
      "\n",
      "           0       0.94      0.94      0.94     12185\n",
      "           1       0.77      0.75      0.76      3109\n",
      "\n",
      "    accuracy                           0.90     15294\n",
      "   macro avg       0.86      0.85      0.85     15294\n",
      "weighted avg       0.90      0.90      0.90     15294\n",
      "\n",
      "[[11504   681]\n",
      " [  773  2336]]\n"
     ]
    }
   ],
   "source": [
    "toxic_detect_model_dt = DecisionTreeClassifier()\n",
    "toxic_detect_model_dt = toxic_detect_model_dt.fit(x_train_tfidf, y_train_tfidf)\n",
    "train_tfidf_preds_dt = toxic_detect_model_dt.predict(x_train_tfidf)\n",
    "val_tfidf_preds_dt = toxic_detect_model_dt.predict(x_val_tfidf)\n",
    "\n",
    "labels = [0,1]\n",
    "print (classification_report(y_val_tfidf, val_tfidf_preds_dt))\n",
    "print(confusion_matrix(y_val_tfidf, val_tfidf_preds_dt, labels))"
   ]
  },
  {
   "cell_type": "markdown",
   "metadata": {},
   "source": [
    "Try different model approaches"
   ]
  },
  {
   "cell_type": "code",
   "execution_count": 22,
   "metadata": {},
   "outputs": [],
   "source": [
    "toxic_detect_ada = AdaBoostClassifier(n_estimators=100, random_state=0)\n",
    "toxic_detect_ada = toxic_detect_ada.fit(x_train_tfidf, y_train_tfidf)"
   ]
  },
  {
   "cell_type": "code",
   "execution_count": 24,
   "metadata": {},
   "outputs": [
    {
     "name": "stdout",
     "output_type": "stream",
     "text": [
      "              precision    recall  f1-score   support\n",
      "\n",
      "           0       0.92      0.98      0.95     12185\n",
      "           1       0.88      0.67      0.76      3109\n",
      "\n",
      "    accuracy                           0.91     15294\n",
      "   macro avg       0.90      0.82      0.86     15294\n",
      "weighted avg       0.91      0.91      0.91     15294\n",
      "\n",
      "[[11903   282]\n",
      " [ 1020  2089]]\n"
     ]
    },
    {
     "name": "stderr",
     "output_type": "stream",
     "text": [
      "/home/ubuntu/anaconda3/envs/aws_neuron_mxnet_p36/lib/python3.6/site-packages/sklearn/utils/validation.py:70: FutureWarning: Pass labels=[0, 1] as keyword args. From version 0.25 passing these as positional arguments will result in an error\n",
      "  FutureWarning)\n"
     ]
    }
   ],
   "source": [
    "train_tfidf_preds_ada = toxic_detect_ada.predict(x_train_tfidf)\n",
    "val_tfidf_preds_ada = toxic_detect_ada.predict(x_val_tfidf)\n",
    "\n",
    "labels = [0,1]\n",
    "print (classification_report(y_val_tfidf, val_tfidf_preds_ada))\n",
    "print(confusion_matrix(y_val_tfidf, val_tfidf_preds_ada, labels))"
   ]
  }
 ],
 "metadata": {
  "kernelspec": {
   "display_name": "Python 3",
   "language": "python",
   "name": "python3"
  },
  "language_info": {
   "codemirror_mode": {
    "name": "ipython",
    "version": 3
   },
   "file_extension": ".py",
   "mimetype": "text/x-python",
   "name": "python",
   "nbconvert_exporter": "python",
   "pygments_lexer": "ipython3",
   "version": "3.7.4"
  }
 },
 "nbformat": 4,
 "nbformat_minor": 4
}
